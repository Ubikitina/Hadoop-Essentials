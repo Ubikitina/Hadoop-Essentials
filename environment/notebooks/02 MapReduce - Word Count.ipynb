{
 "cells": [
  {
   "cell_type": "markdown",
   "metadata": {
    "id": "xO254800zfHT"
   },
   "source": [
    "# Word Count with MapReduce and Hadoop Streaming"
   ]
  },
  {
   "cell_type": "markdown",
   "metadata": {},
   "source": [
    "Note: Execute the cells in order to avoid execution errors. This ensures that all necessary files are created and placed correctly throughout the process."
   ]
  },
  {
   "cell_type": "markdown",
   "metadata": {},
   "source": [
    "## Creation of the folder and the test file"
   ]
  },
  {
   "cell_type": "code",
   "execution_count": 3,
   "metadata": {
    "collapsed": false,
    "id": "99VagvL4ViQf",
    "jupyter": {
     "outputs_hidden": false
    },
    "scrolled": true
   },
   "outputs": [],
   "source": [
    "# Create the folder\n",
    "! mkdir -p /media/notebooks/word-count-example"
   ]
  },
  {
   "cell_type": "code",
   "execution_count": 4,
   "metadata": {
    "collapsed": false,
    "id": "iRj4uURqzeg1",
    "jupyter": {
     "outputs_hidden": false
    },
    "outputId": "42df3ebd-153a-443c-bef4-690eb3d451de"
   },
   "outputs": [
    {
     "name": "stdout",
     "output_type": "stream",
     "text": [
      "/media/notebooks/word-count-example\n"
     ]
    }
   ],
   "source": [
    "# Move to the folder\n",
    "import os\n",
    "os.chdir(\"/media/notebooks/word-count-example\")\n",
    "! pwd"
   ]
  },
  {
   "cell_type": "code",
   "execution_count": 5,
   "metadata": {
    "collapsed": false,
    "id": "ljWFtbhYzeg3",
    "jupyter": {
     "outputs_hidden": false
    }
   },
   "outputs": [],
   "source": [
    "# Create the file with the text\n",
    "! echo \"this file is a word counter test\" >> test.txt\n",
    "! echo \"words will be counted according to their number of occurrences in this file\" >> test.txt"
   ]
  },
  {
   "cell_type": "code",
   "execution_count": 7,
   "metadata": {
    "collapsed": false,
    "id": "OwFBjaPgzeg3",
    "jupyter": {
     "outputs_hidden": false
    },
    "outputId": "7601946f-2755-4841-d509-9c953534aeb3"
   },
   "outputs": [
    {
     "name": "stdout",
     "output_type": "stream",
     "text": [
      "this file is a word counter test\n",
      "words will be counted according to their number of occurrences in this file\n"
     ]
    }
   ],
   "source": [
    "# Show the content of the file\n",
    "!cat test.txt"
   ]
  },
  {
   "cell_type": "markdown",
   "metadata": {},
   "source": [
    "## Creation of Map and Reduce Processes\n",
    "\n",
    "The first line, `%%writefile mapper.py`, will write the file to the system, while the second line, in the form of a comment, specifies the interpreter that should be used. In this case, since it is written in Python, it is: `#!/usr/bin/env python3`."
   ]
  },
  {
   "cell_type": "code",
   "execution_count": 9,
   "metadata": {
    "collapsed": false,
    "id": "KqV-sZrXzeg5",
    "jupyter": {
     "outputs_hidden": false
    },
    "outputId": "ee0b3470-49cd-467a-8e21-0d1f12e6ae6c"
   },
   "outputs": [
    {
     "name": "stdout",
     "output_type": "stream",
     "text": [
      "Overwriting mapper.py\n"
     ]
    }
   ],
   "source": [
    "%%writefile mapper.py\n",
    "#!/usr/bin/env python3\n",
    "\n",
    "import sys\n",
    "\n",
    "# Standard Input STDIN\n",
    "for line in sys.stdin:\n",
    "  line = line.strip()\n",
    "  # Divide each line into words\n",
    "  words = line.split()\n",
    "  # Each word is written together with a 1 and this is the reducer input\n",
    "  for word in words:\n",
    "    print ('%s\\t%s' % (word, 1))"
   ]
  },
  {
   "cell_type": "code",
   "execution_count": 14,
   "metadata": {
    "collapsed": false,
    "id": "lXYSN_QRViQj",
    "jupyter": {
     "outputs_hidden": false
    },
    "outputId": "b5c9bbbf-d5d9-49fd-eeb4-4e1bfc4e9b99"
   },
   "outputs": [
    {
     "name": "stdout",
     "output_type": "stream",
     "text": [
      "Overwriting reducer.py\n"
     ]
    }
   ],
   "source": [
    "%%writefile reducer.py\n",
    "#!/usr/bin/env python3\n",
    "\n",
    "from collections import defaultdict\n",
    "import sys\n",
    "\n",
    "# We use a dictionary for words with an integer as a value\n",
    "word_counter = defaultdict(int)\n",
    "\n",
    "# For each line we count the total number of appearances\n",
    "for line in sys.stdin:\n",
    "    word, number = line.strip().split('\\t')\n",
    "    word_counter[word] += int(number)\n",
    "\n",
    "# We write for each word the total number of occurrences\n",
    "for word in sorted(word_counter.keys()):\n",
    "    print ('%s\\t%s' % (word_counter[word], word))"
   ]
  },
  {
   "cell_type": "code",
   "execution_count": 15,
   "metadata": {
    "collapsed": false,
    "id": "a7WNv2UGViQk",
    "jupyter": {
     "outputs_hidden": false
    },
    "outputId": "e172a5fc-f518-4e83-bb63-420a1d5453f1"
   },
   "outputs": [
    {
     "name": "stdout",
     "output_type": "stream",
     "text": [
      "mapper.py  reducer.py  test.txt  word-count-output\n"
     ]
    }
   ],
   "source": [
    "# See the files \n",
    "! ls /media/notebooks/word-count-example"
   ]
  },
  {
   "cell_type": "markdown",
   "metadata": {},
   "source": [
    "## Running MapReduce Locally"
   ]
  },
  {
   "cell_type": "code",
   "execution_count": 16,
   "metadata": {
    "collapsed": false,
    "id": "ohYoNx64ViQl",
    "jupyter": {
     "outputs_hidden": false
    }
   },
   "outputs": [],
   "source": [
    "# Run map-reduce from the terminal\n",
    "! cat /media/notebooks/word-count-example/test.txt \\\n",
    "| python3 mapper.py | sort | python3 reducer.py > word-count-output"
   ]
  },
  {
   "cell_type": "code",
   "execution_count": 17,
   "metadata": {
    "collapsed": false,
    "id": "XXbMc15Bzeg7",
    "jupyter": {
     "outputs_hidden": false
    },
    "outputId": "7e938bb6-d576-47eb-e118-0dbd07148c62"
   },
   "outputs": [
    {
     "name": "stdout",
     "output_type": "stream",
     "text": [
      "1\ta\n",
      "1\taccording\n",
      "1\tbe\n",
      "1\tcounted\n",
      "1\tcounter\n",
      "2\tfile\n",
      "1\tin\n",
      "1\tis\n",
      "1\tnumber\n",
      "1\toccurrences\n",
      "1\tof\n",
      "1\ttest\n",
      "1\ttheir\n",
      "2\tthis\n",
      "1\tto\n",
      "1\twill\n",
      "1\tword\n",
      "1\twords\n"
     ]
    }
   ],
   "source": [
    "# See the output\n",
    "! cat word-count-output"
   ]
  },
  {
   "cell_type": "markdown",
   "metadata": {},
   "source": [
    "## Running MapReduce in HDFS"
   ]
  },
  {
   "cell_type": "markdown",
   "metadata": {},
   "source": [
    "### Create the Scripts and Test Locally"
   ]
  },
  {
   "cell_type": "code",
   "execution_count": 18,
   "metadata": {},
   "outputs": [
    {
     "name": "stdout",
     "output_type": "stream",
     "text": [
      "/media/notebooks/word-count-example\n"
     ]
    }
   ],
   "source": [
    "! pwd"
   ]
  },
  {
   "cell_type": "code",
   "execution_count": 19,
   "metadata": {},
   "outputs": [],
   "source": [
    "# Create the folder\n",
    "! mkdir -p /media/notebooks/word-count-example-2"
   ]
  },
  {
   "cell_type": "code",
   "execution_count": 20,
   "metadata": {},
   "outputs": [
    {
     "name": "stdout",
     "output_type": "stream",
     "text": [
      "/media/notebooks/word-count-example-2\n"
     ]
    }
   ],
   "source": [
    "os.chdir(\"/media/notebooks/word-count-example-2\")\n",
    "! pwd"
   ]
  },
  {
   "cell_type": "code",
   "execution_count": 22,
   "metadata": {},
   "outputs": [],
   "source": [
    "! cp /media/notebooks/word-count-example/mapper.py /media/notebooks/word-count-example/reducer.py /media/notebooks/word-count-example-2/"
   ]
  },
  {
   "cell_type": "code",
   "execution_count": 23,
   "metadata": {},
   "outputs": [
    {
     "name": "stdout",
     "output_type": "stream",
     "text": [
      "100-0.txt  mapper.py  plays-shakespeare.txt  reducer.py\n"
     ]
    }
   ],
   "source": [
    "! ls /media/notebooks/word-count-example-2"
   ]
  },
  {
   "cell_type": "markdown",
   "metadata": {},
   "source": [
    "Now we are going to download a test file containing all Shakespeare's works from Project Gutenberg, an initiative that offered a collection of free books in order to collaborate with society to improve public literacy.\n",
    "\n",
    "We will also remove some problematic characters and other punctuation marks. "
   ]
  },
  {
   "cell_type": "code",
   "execution_count": 21,
   "metadata": {
    "collapsed": false,
    "id": "RbOreYZAzeg7",
    "jupyter": {
     "outputs_hidden": false
    },
    "outputId": "e10e713a-62a1-46f1-9c9c-2a4f264f43cb"
   },
   "outputs": [
    {
     "name": "stdout",
     "output_type": "stream",
     "text": [
      "--2024-11-09 15:24:54--  http://www.gutenberg.org/files/100/100-0.txt\n",
      "Resolving www.gutenberg.org (www.gutenberg.org)... 152.19.134.47, 152.19.134.47, 2610:28:3090:3000:0:bad:cafe:47\n",
      "Connecting to www.gutenberg.org (www.gutenberg.org)|152.19.134.47|:80... connected.\n",
      "HTTP request sent, awaiting response... 302 Found\n",
      "Location: https://www.gutenberg.org/files/100/100-0.txt [following]\n",
      "--2024-11-09 15:24:55--  https://www.gutenberg.org/files/100/100-0.txt\n",
      "Connecting to www.gutenberg.org (www.gutenberg.org)|152.19.134.47|:443... connected.\n",
      "HTTP request sent, awaiting response... 200 OK\n",
      "Length: 5618733 (5.4M) [text/plain]\n",
      "Saving to: ‘100-0.txt’\n",
      "\n",
      "100-0.txt           100%[===================>]   5.36M  1.04MB/s    in 5.5s    \n",
      "\n",
      "2024-11-09 15:25:01 (991 KB/s) - ‘100-0.txt’ saved [5618733/5618733]\n",
      "\n"
     ]
    }
   ],
   "source": [
    "# Download all Shakespeare's plays and clean up the document to save it in plays-shakespeare.txt\n",
    "! wget http://www.gutenberg.org/files/100/100-0.txt \n",
    "! cat 100-0.txt | sed -e 's/^\\xEF\\xBB\\xBF//' | tr -d '.,;?!(&_*-' > plays-shakespeare.txt"
   ]
  },
  {
   "cell_type": "code",
   "execution_count": 25,
   "metadata": {
    "collapsed": false,
    "id": "H4Cz9c-kViQl",
    "jupyter": {
     "outputs_hidden": false
    },
    "outputId": "b7fd5fb4-4a0e-44fb-f3e0-ee847042f869"
   },
   "outputs": [
    {
     "name": "stdout",
     "output_type": "stream",
     "text": [
      "1\tRebelled\n",
      "3\tRebellion\n",
      "6\tRebellious\n",
      "1\tRebels\n",
      "2\tRebuke\n",
      "1\tRebukeable\n",
      "1\tRecall\n",
      "1\tRecantation\n",
      "1\tRecanting\n",
      "17\tReceive\n"
     ]
    }
   ],
   "source": [
    "# Run our map-reduce\n",
    "! cat plays-shakespeare.txt | python3 mapper.py \\\n",
    "| sort | python3 reducer.py > shakespeare-word-count\n",
    "\n",
    "# Show some examples of output\n",
    "! head -8000 shakespeare-word-count | tail -10"
   ]
  },
  {
   "cell_type": "markdown",
   "metadata": {},
   "source": [
    "### Run in Hadoop Cluster\n",
    "\n",
    "Once we have verified the correct operation of the MapReduce code, we can run it on our Hadoop cluster. By doing this, we will be using the full power of our cluster.\n",
    "\n",
    "The first thing to do is to upload the file we want to process to HDFS. Before, we will create a folder containing this file and the output."
   ]
  },
  {
   "cell_type": "code",
   "execution_count": 26,
   "metadata": {
    "collapsed": false,
    "id": "EO_Bc9Q6ViQm",
    "jupyter": {
     "outputs_hidden": false
    },
    "outputId": "f4d1d9af-065b-4fd1-b5a1-dff968e82080"
   },
   "outputs": [
    {
     "name": "stdout",
     "output_type": "stream",
     "text": [
      "Found 1 items\n",
      "-rw-r--r--   3 root supergroup    5386993 2024-11-09 15:33 /word-count-example/plays-shakespeare.txt\n"
     ]
    }
   ],
   "source": [
    "# Create a new folder for the counter example in HDFS\n",
    "! hdfs dfs -mkdir /word-count-example\n",
    "\n",
    "# Upload the file plays-shakespeare to HDFS\n",
    "! hdfs dfs -put /media/notebooks/word-count-example-2/plays-shakespeare.txt /word-count-example\n",
    "\n",
    "# Check that they have been uploaded correctly\n",
    "! hdfs dfs -ls /word-count-example"
   ]
  },
  {
   "cell_type": "code",
   "execution_count": 28,
   "metadata": {
    "collapsed": false,
    "id": "vtrch6Mtzeg9",
    "jupyter": {
     "outputs_hidden": false
    },
    "outputId": "b1f2f0af-be11-40e6-963c-c28c66b771bb"
   },
   "outputs": [
    {
     "name": "stdout",
     "output_type": "stream",
     "text": [
      "packageJobJar: [/tmp/hadoop-unjar3045023563548009164/] [] /tmp/streamjob4428763553398023230.jar tmpDir=null\n",
      "2024-11-09 15:36:57,328 INFO client.DefaultNoHARMFailoverProxyProvider: Connecting to ResourceManager at yarnmanager/172.18.0.3:8032\n",
      "2024-11-09 15:36:57,402 INFO client.DefaultNoHARMFailoverProxyProvider: Connecting to ResourceManager at yarnmanager/172.18.0.3:8032\n",
      "2024-11-09 15:36:57,534 INFO mapreduce.JobResourceUploader: Disabling Erasure Coding for path: /tmp/hadoop-yarn/staging/root/.staging/job_1731146251920_0002\n",
      "2024-11-09 15:36:57,788 INFO mapred.FileInputFormat: Total input files to process : 1\n",
      "2024-11-09 15:36:57,854 INFO mapreduce.JobSubmitter: number of splits:2\n",
      "2024-11-09 15:36:57,928 INFO mapreduce.JobSubmitter: Submitting tokens for job: job_1731146251920_0002\n",
      "2024-11-09 15:36:57,928 INFO mapreduce.JobSubmitter: Executing with tokens: []\n",
      "2024-11-09 15:36:58,022 INFO conf.Configuration: resource-types.xml not found\n",
      "2024-11-09 15:36:58,022 INFO resource.ResourceUtils: Unable to find 'resource-types.xml'.\n",
      "2024-11-09 15:36:58,574 INFO impl.YarnClientImpl: Submitted application application_1731146251920_0002\n",
      "2024-11-09 15:36:58,595 INFO mapreduce.Job: The url to track the job: http://yarnmanager:8088/proxy/application_1731146251920_0002/\n",
      "2024-11-09 15:36:58,595 INFO mapreduce.Job: Running job: job_1731146251920_0002\n",
      "2024-11-09 15:37:04,659 INFO mapreduce.Job: Job job_1731146251920_0002 running in uber mode : false\n",
      "2024-11-09 15:37:04,660 INFO mapreduce.Job:  map 0% reduce 0%\n",
      "2024-11-09 15:37:10,702 INFO mapreduce.Job:  map 100% reduce 0%\n",
      "2024-11-09 15:37:14,717 INFO mapreduce.Job:  map 100% reduce 100%\n",
      "2024-11-09 15:37:15,726 INFO mapreduce.Job: Job job_1731146251920_0002 completed successfully\n",
      "2024-11-09 15:37:15,769 INFO mapreduce.Job: Counters: 54\n",
      "\tFile System Counters\n",
      "\t\tFILE: Number of bytes read=8982562\n",
      "\t\tFILE: Number of bytes written=18907696\n",
      "\t\tFILE: Number of read operations=0\n",
      "\t\tFILE: Number of large read operations=0\n",
      "\t\tFILE: Number of write operations=0\n",
      "\t\tHDFS: Number of bytes read=5391315\n",
      "\t\tHDFS: Number of bytes written=466108\n",
      "\t\tHDFS: Number of read operations=11\n",
      "\t\tHDFS: Number of large read operations=0\n",
      "\t\tHDFS: Number of write operations=2\n",
      "\t\tHDFS: Number of bytes read erasure-coded=0\n",
      "\tJob Counters \n",
      "\t\tLaunched map tasks=2\n",
      "\t\tLaunched reduce tasks=1\n",
      "\t\tData-local map tasks=2\n",
      "\t\tTotal time spent by all maps in occupied slots (ms)=6827\n",
      "\t\tTotal time spent by all reduces in occupied slots (ms)=2327\n",
      "\t\tTotal time spent by all map tasks (ms)=6827\n",
      "\t\tTotal time spent by all reduce tasks (ms)=2327\n",
      "\t\tTotal vcore-milliseconds taken by all map tasks=6827\n",
      "\t\tTotal vcore-milliseconds taken by all reduce tasks=2327\n",
      "\t\tTotal megabyte-milliseconds taken by all map tasks=6990848\n",
      "\t\tTotal megabyte-milliseconds taken by all reduce tasks=2382848\n",
      "\tMap-Reduce Framework\n",
      "\t\tMap input records=196017\n",
      "\t\tMap output records=963385\n",
      "\t\tMap output bytes=7055786\n",
      "\t\tMap output materialized bytes=8982568\n",
      "\t\tInput split bytes=226\n",
      "\t\tCombine input records=0\n",
      "\t\tCombine output records=0\n",
      "\t\tReduce input groups=42484\n",
      "\t\tReduce shuffle bytes=8982568\n",
      "\t\tReduce input records=963385\n",
      "\t\tReduce output records=42484\n",
      "\t\tSpilled Records=1926770\n",
      "\t\tShuffled Maps =2\n",
      "\t\tFailed Shuffles=0\n",
      "\t\tMerged Map outputs=2\n",
      "\t\tGC time elapsed (ms)=216\n",
      "\t\tCPU time spent (ms)=4660\n",
      "\t\tPhysical memory (bytes) snapshot=860844032\n",
      "\t\tVirtual memory (bytes) snapshot=7931645952\n",
      "\t\tTotal committed heap usage (bytes)=934805504\n",
      "\t\tPeak Map Physical memory (bytes)=282390528\n",
      "\t\tPeak Map Virtual memory (bytes)=2638721024\n",
      "\t\tPeak Reduce Physical memory (bytes)=299462656\n",
      "\t\tPeak Reduce Virtual memory (bytes)=2654941184\n",
      "\tShuffle Errors\n",
      "\t\tBAD_ID=0\n",
      "\t\tCONNECTION=0\n",
      "\t\tIO_ERROR=0\n",
      "\t\tWRONG_LENGTH=0\n",
      "\t\tWRONG_MAP=0\n",
      "\t\tWRONG_REDUCE=0\n",
      "\tFile Input Format Counters \n",
      "\t\tBytes Read=5391089\n",
      "\tFile Output Format Counters \n",
      "\t\tBytes Written=466108\n",
      "2024-11-09 15:37:15,769 INFO streaming.StreamJob: Output directory: /word-count-example/output\n"
     ]
    }
   ],
   "source": [
    "# Execute the hadoop command to apply map-reduce\n",
    "! hadoop jar /usr/local/hadoop/share/hadoop/tools/lib/hadoop-streaming-3.4.0.jar \\\n",
    "-files mapper.py,reducer.py \\\n",
    "-mapper mapper.py \\\n",
    "-reducer reducer.py \\\n",
    "-input /word-count-example/plays-shakespeare.txt \\\n",
    "-output /word-count-example/output"
   ]
  },
  {
   "cell_type": "code",
   "execution_count": 29,
   "metadata": {
    "collapsed": false,
    "id": "Tb6Vz0I-ViQm",
    "jupyter": {
     "outputs_hidden": false
    },
    "outputId": "25cdbc80-0bdf-4be0-e66d-3a4ffd7db536"
   },
   "outputs": [
    {
     "name": "stdout",
     "output_type": "stream",
     "text": [
      "Found 2 items\n",
      "-rw-r--r--   3 root supergroup          0 2024-11-09 15:37 /word-count-example/output/_SUCCESS\n",
      "-rw-r--r--   3 root supergroup     466108 2024-11-09 15:37 /word-count-example/output/part-00000\n"
     ]
    }
   ],
   "source": [
    "# Check the output files\n",
    "! hdfs dfs -ls /word-count-example/output"
   ]
  },
  {
   "cell_type": "code",
   "execution_count": 31,
   "metadata": {
    "collapsed": false,
    "id": "NnT573kPViQn",
    "jupyter": {
     "outputs_hidden": false
    },
    "outputId": "7cb896ce-9898-42c9-9de8-730806a37609"
   },
   "outputs": [
    {
     "name": "stdout",
     "output_type": "stream",
     "text": [
      "cat: Unable to write to output stream.1\tRebelled\n",
      "3\tRebellion\n",
      "6\tRebellious\n",
      "1\tRebels\n",
      "2\tRebuke\n",
      "1\tRebukeable\n",
      "1\tRecall\n",
      "1\tRecantation\n",
      "1\tRecanting\n",
      "17\tReceive\n",
      "\n"
     ]
    }
   ],
   "source": [
    "# Show the contents of the file\n",
    "! hdfs dfs -cat /word-count-example/output/part-00000  | head -8000 | tail -10"
   ]
  },
  {
   "cell_type": "markdown",
   "metadata": {},
   "source": [
    "If we enter the Job History (http://localhost:19888/jobhistory) we can see the history of MapReduce jobs and access any of them. Example:"
   ]
  },
  {
   "cell_type": "markdown",
   "metadata": {},
   "source": [
    "![image.png](data:image/png;base64,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)"
   ]
  }
 ],
 "metadata": {
  "colab": {
   "provenance": []
  },
  "kernelspec": {
   "display_name": "Python 3 (ipykernel)",
   "language": "python",
   "name": "python3"
  },
  "language_info": {
   "codemirror_mode": {
    "name": "ipython",
    "version": 3
   },
   "file_extension": ".py",
   "mimetype": "text/x-python",
   "name": "python",
   "nbconvert_exporter": "python",
   "pygments_lexer": "ipython3",
   "version": "3.10.12"
  }
 },
 "nbformat": 4,
 "nbformat_minor": 4
}
